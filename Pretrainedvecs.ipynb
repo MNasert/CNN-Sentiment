{
 "cells": [
  {
   "cell_type": "code",
   "execution_count": 70,
   "metadata": {},
   "outputs": [],
   "source": [
    "data_n=open(\"Data\\sorted_data_acl\\electronics/negative.review\")\n",
    "data_neg=data_n.read()\n",
    "data_p=open(\"Data\\sorted_data_acl\\electronics/positive.review\")\n",
    "data_pos=data_p.read()\n",
    "data_comb=data_neg+data_pos"
   ]
  },
  {
   "cell_type": "code",
   "execution_count": 71,
   "metadata": {},
   "outputs": [],
   "source": [
    "import gensim\n",
    "from tqdm import tqdm_notebook as tqdm\n",
    "import numpy as np\n",
    "from nltk import word_tokenize, sent_tokenize\n",
    "def prepareTXT(text,criterion_start,criterion_end,exclude):\n",
    "    q=\"\"\n",
    "    txt=\"\"\n",
    "    real_txt=[]\n",
    "    n=0\n",
    "    write=False\n",
    "    for i in tqdm(text):\n",
    "        q+=i\n",
    "        if q.find(criterion_start)>0:\n",
    "            write=True\n",
    "            q=\"\"\n",
    "            n+=1\n",
    "        if q.find(criterion_end)>0:\n",
    "            write=False\n",
    "            q=\"\"\n",
    "            for i in range(len(exclude)):\n",
    "                txt=txt.replace(exclude[i],\"\")\n",
    "            real_txt.append(txt)\n",
    "            txt=\"\"\n",
    "        if write==True:\n",
    "            txt+=i\n",
    "    return real_txt"
   ]
  },
  {
   "cell_type": "code",
   "execution_count": 72,
   "metadata": {},
   "outputs": [
    {
     "data": {
      "application/vnd.jupyter.widget-view+json": {
       "model_id": "ae125855799143e5acd9896b4f6037cd",
       "version_major": 2,
       "version_minor": 0
      },
      "text/plain": [
       "HBox(children=(IntProgress(value=0, max=1113512), HTML(value='')))"
      ]
     },
     "metadata": {},
     "output_type": "display_data"
    },
    {
     "data": {
      "application/vnd.jupyter.widget-view+json": {
       "model_id": "e098356b8862401998d1c4b58a7ed805",
       "version_major": 2,
       "version_minor": 0
      },
      "text/plain": [
       "HBox(children=(IntProgress(value=0, max=1105010), HTML(value='')))"
      ]
     },
     "metadata": {},
     "output_type": "display_data"
    },
    {
     "data": {
      "application/vnd.jupyter.widget-view+json": {
       "model_id": "5f737ef3e1974b57b2ca562c00611b2e",
       "version_major": 2,
       "version_minor": 0
      },
      "text/plain": [
       "HBox(children=(IntProgress(value=0, max=1105010), HTML(value='')))"
      ]
     },
     "metadata": {},
     "output_type": "display_data"
    },
    {
     "data": {
      "application/vnd.jupyter.widget-view+json": {
       "model_id": "45b5db4e7ab6468bb779f54d9363ddea",
       "version_major": 2,
       "version_minor": 0
      },
      "text/plain": [
       "HBox(children=(IntProgress(value=0, max=1113512), HTML(value='')))"
      ]
     },
     "metadata": {},
     "output_type": "display_data"
    },
    {
     "data": {
      "application/vnd.jupyter.widget-view+json": {
       "model_id": "95f82b36d1ba42cd91718d35111ef59d",
       "version_major": 2,
       "version_minor": 0
      },
      "text/plain": [
       "HBox(children=(IntProgress(value=0, max=2218522), HTML(value='')))"
      ]
     },
     "metadata": {},
     "output_type": "display_data"
    },
    {
     "data": {
      "application/vnd.jupyter.widget-view+json": {
       "model_id": "25afcf8bc12a4be1ad8a911ed0f612c5",
       "version_major": 2,
       "version_minor": 0
      },
      "text/plain": [
       "HBox(children=(IntProgress(value=0, max=2218522), HTML(value='')))"
      ]
     },
     "metadata": {},
     "output_type": "display_data"
    }
   ],
   "source": [
    "from sklearn.utils import shuffle\n",
    "import numpy as np\n",
    "negative  =prepareTXT(data_neg,\"<review_text>\",\"</review_text>\",[\"</review_text\",\"\\n\",\">\"])\n",
    "positive  =prepareTXT(data_pos,\"<review_text>\",\"</review_text>\",[\"</review_text\",\"\\n\",\">\"])\n",
    "stars_pos =prepareTXT(data_pos,\"<rating>\",\"</rating>\",[\"</rating\",\"\\n\",\">\"])\n",
    "stars_neg =prepareTXT(data_neg,\"<rating>\",\"</rating>\",[\"</rating\",\"\\n\",\">\"])\n",
    "full      =prepareTXT(data_comb,\"<review_text>\",\"</review_text>\",[\"</review_text\",\"\\n\",\">\"])\n",
    "stars_full=prepareTXT(data_comb,\"<rating>\",\"</rating>\",[\"</rating\",\"\\n\",\">\"])\n",
    "data_neg=\"\"\n",
    "data_pos=\"\"\n",
    "\n",
    "full,stars_full=shuffle(full,stars_full)\n"
   ]
  },
  {
   "cell_type": "code",
   "execution_count": 73,
   "metadata": {},
   "outputs": [],
   "source": [
    "from nltk import word_tokenize\n",
    "import torch\n",
    "import torch.nn as nn\n",
    "import torchvision\n",
    "#cuda\n",
    "#use_cuda = torch.cuda.is_available()\n",
    "#device = torch.device(\"cuda:0\" if use_cuda else \"cpu\")\n",
    "#torch.backends.cudnn.benchmark = True\n",
    "def make_sent_n_words(text):\n",
    "    sentences=[]\n",
    "    words=[]\n",
    "    for i in range(len(text)):\n",
    "        sentences.append(sent_tokenize(text[i]))\n",
    "    for i in range(len(sentences)):\n",
    "        words.append(word_tokenize(text[i]))\n",
    "    return (sentences,words)\n",
    "sent_pos=[]\n",
    "_,words_pos=make_sent_n_words(positive) \n",
    "_,words_neg=make_sent_n_words(negative)\n",
    "_,words_cb =make_sent_n_words(full)"
   ]
  },
  {
   "cell_type": "code",
   "execution_count": 74,
   "metadata": {},
   "outputs": [],
   "source": [
    "import io\n",
    "import numpy as np\n",
    "def load_vectors(fname):\n",
    "    fin = io.open(fname, 'r', encoding='utf-8', newline='\\n', errors='ignore')\n",
    "    data = {}\n",
    "    word_dict={}\n",
    "    r=-1\n",
    "    q=-1\n",
    "    for line in fin:\n",
    "        r+=1\n",
    "        if r>100000:\n",
    "            break\n",
    "        if r>0:\n",
    "            tokens = line.rstrip().split(' ')\n",
    "            data[tokens[0]] = list(map(float, tokens[1:]))\n",
    "    for word in data:\n",
    "        q+=1\n",
    "        word_dict[word]=q\n",
    "    data[\"UNK_&NOWN\"]=list(np.mean(list(data.values()),axis=0))\n",
    "    data[\"PAD_&DING\"]=list(np.zeros(300))\n",
    "    word_dict[\"UNK_&NOWN\"]=q+1\n",
    "    word_dict[\"PAD_&DING\"]=q+2\n",
    "    return data,word_dict"
   ]
  },
  {
   "cell_type": "code",
   "execution_count": 75,
   "metadata": {},
   "outputs": [],
   "source": [
    "vecs,word_to_int=load_vectors(\"Data\\data.txt\")"
   ]
  },
  {
   "cell_type": "code",
   "execution_count": 76,
   "metadata": {},
   "outputs": [],
   "source": [
    "def make_Tensors(words,word_to_int):\n",
    "    x=[]\n",
    "    int_mat=[]\n",
    "    for sentence in words:\n",
    "        x=[]\n",
    "        for word in sentence:\n",
    "                try:\n",
    "                    x.append(word_to_int[word])\n",
    "                except:\n",
    "                    x.append(word_to_int[\"UNK_&NOWN\"])\n",
    "        while(len(x)<2000):\n",
    "            x.append(word_to_int[\"PAD_&DING\"])\n",
    "        int_mat.append(torch.Tensor(x).reshape(1,1,2000))\n",
    "    return int_mat"
   ]
  },
  {
   "cell_type": "code",
   "execution_count": 77,
   "metadata": {},
   "outputs": [],
   "source": [
    "vec_vals=list(vecs.values())"
   ]
  },
  {
   "cell_type": "code",
   "execution_count": 78,
   "metadata": {},
   "outputs": [],
   "source": [
    "import matplotlib.pyplot as plt\n",
    "from sklearn.utils import shuffle\n",
    "import numpy as np"
   ]
  },
  {
   "cell_type": "code",
   "execution_count": 79,
   "metadata": {},
   "outputs": [],
   "source": [
    "V=torch.Tensor(vec_vals)\n",
    "X_train=make_Tensors(words_pos,word_to_int)\n",
    "X_test=make_Tensors(words_neg,word_to_int)\n",
    "X_C=make_Tensors(words_cb,word_to_int)\n",
    "for i in range(len(stars_pos)):\n",
    "    stars_pos[i]=float(stars_pos[i])/5\n",
    "stars_pos=torch.Tensor(stars_pos).reshape(len(stars_pos),1,1,1)\n",
    "for i in range(len(stars_neg)):\n",
    "    stars_neg[i]=float(stars_neg[i])/5\n",
    "stars_neg=torch.Tensor(stars_neg).reshape(len(stars_neg),1,1,1)\n",
    "for i in range(len(stars_full)):\n",
    "    stars_full[i]=float(stars_full[i])/5\n",
    "stars_full=torch.Tensor(stars_full).reshape(len(stars_full),1,1,1)\n",
    "\n",
    "\n"
   ]
  },
  {
   "cell_type": "code",
   "execution_count": 80,
   "metadata": {},
   "outputs": [],
   "source": [
    "import torch\n",
    "import torch.nn as nn\n",
    "import torch.nn.functional as F\n",
    "\n",
    "class CNN_SENTIMENT(nn.Sequential):\n",
    "    def __init__(self):\n",
    "        super(CNN_SENTIMENT, self).__init__()\n",
    "        self.em   = nn.Embedding(100002,300,padding_idx=100001,_weight=V)\n",
    "        self.drop = nn.Dropout(.05)\n",
    "        self.conv1= nn.Conv1d(1,1024,1)\n",
    "        self.max1 = nn.MaxPool2d((1024,1))\n",
    "        #self.conv2= nn.Conv1d(1,512,2)\n",
    "        #self.max2 = nn.MaxPool2d((512,1))\n",
    "        self.fc1  = nn.Linear(2000-0,4096)\n",
    "        self.fc2  = nn.Linear(4096,1024)\n",
    "        self.fc3  = nn.Linear(1024,1)\n",
    "    def forward(self, x):\n",
    "        x = F.relu(self.conv1(x))\n",
    "        x = self.drop(x)\n",
    "        #print(x)\n",
    "        x = self.max1(x)\n",
    "        #x = F.tanh(self.conv2(x))\n",
    "        #x = self.drop(x)\n",
    "        #x = self.max2(x)\n",
    "        x = F.softmax(self.fc1(x))\n",
    "        x = self.drop(x)\n",
    "        x = F.relu(self.fc2(x))\n",
    "        x = F.relu(self.fc3(x))\n",
    "        #x = F.relu(self.fc4(x))\n",
    "        return x\n",
    "\n",
    "model=CNN_SENTIMENT()\n",
    "criterion=torch.nn.BCELoss()"
   ]
  },
  {
   "cell_type": "code",
   "execution_count": 81,
   "metadata": {},
   "outputs": [],
   "source": [
    "def train(model,in_x,out_y,optimizer,criterion,epochs):\n",
    "    for epoch in tqdm(range(epochs)):\n",
    "        running_loss = 0.0\n",
    "        for i in tqdm(range(len(in_x))):\n",
    "            # zero the parameter gradients\n",
    "            optimizer.zero_grad()\n",
    "\n",
    "            # forward + backward + optimize\n",
    "            output = model.forward(in_x[i])\n",
    "            loss = criterion(output, out_y[i])\n",
    "            loss.backward()\n",
    "            optimizer.step()\n",
    "            # print statistics\n",
    "            running_loss += loss.item()\n",
    "            if i % 100 == 99:    # print every 100 mini-batches\n",
    "                \n",
    "                print('[%d, %5d] loss: %.3f' %\n",
    "                      (epoch + 1, i + 1, running_loss / 100))\n",
    "                running_loss = 0.0"
   ]
  },
  {
   "cell_type": "code",
   "execution_count": 93,
   "metadata": {},
   "outputs": [
    {
     "data": {
      "application/vnd.jupyter.widget-view+json": {
       "model_id": "adc0d246c6ab428fbabda373013a1081",
       "version_major": 2,
       "version_minor": 0
      },
      "text/plain": [
       "HBox(children=(IntProgress(value=0, max=1), HTML(value='')))"
      ]
     },
     "metadata": {},
     "output_type": "display_data"
    },
    {
     "data": {
      "application/vnd.jupyter.widget-view+json": {
       "model_id": "324c76fda0084f6d915f84bfec1cb375",
       "version_major": 2,
       "version_minor": 0
      },
      "text/plain": [
       "HBox(children=(IntProgress(value=0, max=2000), HTML(value='')))"
      ]
     },
     "metadata": {},
     "output_type": "display_data"
    },
    {
     "name": "stderr",
     "output_type": "stream",
     "text": [
      "c:\\users\\max\\appdata\\local\\programs\\python\\python37\\lib\\site-packages\\ipykernel_launcher.py:25: UserWarning: Implicit dimension choice for softmax has been deprecated. Change the call to include dim=X as an argument.\n"
     ]
    },
    {
     "name": "stdout",
     "output_type": "stream",
     "text": [
      "[1,   100] loss: 0.674\n",
      "[1,   200] loss: 0.687\n",
      "[1,   300] loss: 0.696\n",
      "[1,   400] loss: 0.683\n",
      "[1,   500] loss: 0.694\n",
      "[1,   600] loss: 0.700\n",
      "[1,   700] loss: 0.685\n",
      "[1,   800] loss: 0.691\n",
      "[1,   900] loss: 0.680\n",
      "[1,  1000] loss: 0.693\n",
      "[1,  1100] loss: 0.687\n",
      "[1,  1200] loss: 0.683\n",
      "[1,  1300] loss: 0.688\n",
      "[1,  1400] loss: 0.698\n",
      "[1,  1500] loss: 0.694\n",
      "[1,  1600] loss: 0.680\n",
      "[1,  1700] loss: 0.701\n",
      "[1,  1800] loss: 0.696\n",
      "[1,  1900] loss: 0.690\n",
      "[1,  2000] loss: 0.691\n"
     ]
    }
   ],
   "source": [
    "model_optim=torch.optim.SGD(model.parameters(), lr=5e-9,momentum=.1)\n",
    "train(model,X_C,stars_full,model_optim,criterion,1)"
   ]
  },
  {
   "cell_type": "code",
   "execution_count": 94,
   "metadata": {},
   "outputs": [
    {
     "data": {
      "application/vnd.jupyter.widget-view+json": {
       "model_id": "6056b7c15cde4451b3ac4219ad120c52",
       "version_major": 2,
       "version_minor": 0
      },
      "text/plain": [
       "HBox(children=(IntProgress(value=0, max=2000), HTML(value='')))"
      ]
     },
     "metadata": {},
     "output_type": "display_data"
    },
    {
     "name": "stderr",
     "output_type": "stream",
     "text": [
      "c:\\users\\max\\appdata\\local\\programs\\python\\python37\\lib\\site-packages\\ipykernel_launcher.py:25: UserWarning: Implicit dimension choice for softmax has been deprecated. Change the call to include dim=X as an argument.\n"
     ]
    },
    {
     "data": {
      "application/vnd.jupyter.widget-view+json": {
       "model_id": "39f465a01cbc482f8fb9d67742b552aa",
       "version_major": 2,
       "version_minor": 0
      },
      "text/plain": [
       "HBox(children=(IntProgress(value=0, max=2000), HTML(value='')))"
      ]
     },
     "metadata": {},
     "output_type": "display_data"
    }
   ],
   "source": [
    "y=[]\n",
    "for i in tqdm(range(len(X_C))):\n",
    "    y.append(float(model.forward(X_C[i])))\n",
    "x=np.arange(len(X_C))\n",
    "error=0\n",
    "for i in tqdm(range(len(stars_full))):    \n",
    "    \n",
    "    error+=abs(float(5*(stars_full[i]-y[i])))\n",
    "    \n",
    "    "
   ]
  },
  {
   "cell_type": "code",
   "execution_count": 95,
   "metadata": {},
   "outputs": [
    {
     "data": {
      "text/plain": [
       "1.676823824390769"
      ]
     },
     "execution_count": 95,
     "metadata": {},
     "output_type": "execute_result"
    }
   ],
   "source": [
    "error/len(stars_full)"
   ]
  },
  {
   "cell_type": "code",
   "execution_count": 115,
   "metadata": {},
   "outputs": [],
   "source": [
    "my_txt=[\"\"]"
   ]
  },
  {
   "cell_type": "code",
   "execution_count": 116,
   "metadata": {},
   "outputs": [],
   "source": [
    "_,my_txt=make_sent_n_words(my_txt)\n",
    "my_txt=make_Tensors(my_txt,word_to_int)\n",
    "rev=torch.Tensor([.2]).reshape(1,1,1)"
   ]
  },
  {
   "cell_type": "code",
   "execution_count": 117,
   "metadata": {},
   "outputs": [],
   "source": [
    "torch.save(model.state_dict(), './model.mod')"
   ]
  },
  {
   "cell_type": "code",
   "execution_count": 118,
   "metadata": {},
   "outputs": [
    {
     "name": "stderr",
     "output_type": "stream",
     "text": [
      "c:\\users\\max\\appdata\\local\\programs\\python\\python37\\lib\\site-packages\\ipykernel_launcher.py:25: UserWarning: Implicit dimension choice for softmax has been deprecated. Change the call to include dim=X as an argument.\n"
     ]
    },
    {
     "data": {
      "text/plain": [
       "tensor([[[0.5358]]], grad_fn=<ReluBackward0>)"
      ]
     },
     "execution_count": 118,
     "metadata": {},
     "output_type": "execute_result"
    }
   ],
   "source": [
    "model.forward(my_txt[0])"
   ]
  },
  {
   "cell_type": "code",
   "execution_count": 100,
   "metadata": {},
   "outputs": [],
   "source": [
    "y_r=[]\n",
    "for i in range(len(stars_full)):\n",
    "    y_r.append(float(stars_full[i]))\n",
    "    "
   ]
  },
  {
   "cell_type": "code",
   "execution_count": 101,
   "metadata": {},
   "outputs": [
    {
     "data": {
      "image/png": "[encoded data removed]",
      "text/plain": [
       "<Figure size 432x288 with 1 Axes>"
      ]
     },
     "metadata": {
      "needs_background": "light"
     },
     "output_type": "display_data"
    }
   ],
   "source": [
    "plt.plot(x,y)\n",
    "plt.ylim(0,1)\n",
    "plt.show()"
   ]
  },
  {
   "cell_type": "code",
   "execution_count": 102,
   "metadata": {},
   "outputs": [
    {
     "data": {
      "image/png": "[encoded data removed]",
      "text/plain": [
       "<Figure size 432x288 with 1 Axes>"
      ]
     },
     "metadata": {
      "needs_background": "light"
     },
     "output_type": "display_data"
    }
   ],
   "source": [
    "plt.plot(x,y_r)\n",
    "plt.ylim(0,1)\n",
    "plt.show()"
   ]
  },
  {
   "cell_type": "code",
   "execution_count": null,
   "metadata": {},
   "outputs": [],
   "source": []
  },
  {
   "cell_type": "code",
   "execution_count": null,
   "metadata": {},
   "outputs": [],
   "source": []
  },
  {
   "cell_type": "code",
   "execution_count": null,
   "metadata": {},
   "outputs": [],
   "source": []
  },
  {
   "cell_type": "code",
   "execution_count": null,
   "metadata": {},
   "outputs": [],
   "source": []
  },
  {
   "cell_type": "code",
   "execution_count": null,
   "metadata": {},
   "outputs": [],
   "source": []
  },
  {
   "cell_type": "code",
   "execution_count": null,
   "metadata": {},
   "outputs": [],
   "source": []
  },
  {
   "cell_type": "code",
   "execution_count": null,
   "metadata": {},
   "outputs": [],
   "source": []
  },
  {
   "cell_type": "code",
   "execution_count": null,
   "metadata": {},
   "outputs": [],
   "source": []
  },
  {
   "cell_type": "code",
   "execution_count": null,
   "metadata": {},
   "outputs": [],
   "source": []
  }
 ],
 "metadata": {
  "kernelspec": {
   "display_name": "Python 3",
   "language": "python",
   "name": "python3"
  }
 },
 "nbformat": 4,
 "nbformat_minor": 2
}
